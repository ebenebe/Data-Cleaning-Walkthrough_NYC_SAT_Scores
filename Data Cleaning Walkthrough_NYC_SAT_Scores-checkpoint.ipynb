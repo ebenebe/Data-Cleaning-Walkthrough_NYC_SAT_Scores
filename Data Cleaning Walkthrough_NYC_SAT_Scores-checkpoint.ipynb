{
 "cells": [
  {
   "cell_type": "markdown",
   "metadata": {},
   "source": [
    "\n",
    "   #### Read each of the files in the list data_files into a pandas dataframe using the pandas.read_csv() function.\n",
    "   ####     Recall that all of the data sets are in the schools folder. That means the path to ap_2010.csv is schools/ap_2010.csv.\n",
    "   #### Add each of the dataframes to the dictionary data, using the base of the filename as the key. For example, you'd enter ap_2010 for the file ap_2010.csv.\n",
    "  ####  Afterwards, data should have the following keys:\n",
    "   ####   ap_2010\n",
    "  ####     class_size\n",
    "  ####    demographics\n",
    " ####     graduation\n",
    "####       hs_directory\n",
    " ####      sat_results\n",
    " ####  In addition, each key in data should have the corresponding dataframe as its value.\n",
    "\n",
    "\n",
    "\n"
   ]
  },
  {
   "cell_type": "code",
   "execution_count": 3,
   "metadata": {},
   "outputs": [],
   "source": [
    "# import libraries\n",
    "import pandas as pd\n",
    "\n",
    "# create a list of the dataset files\n",
    "data_files = [\n",
    "    \"ap_2010.csv\",\n",
    "    \"class_size.csv\",\n",
    "    \"demographics.csv\",\n",
    "    \"graduation.csv\",\n",
    "    \"hs_directory.csv\",\n",
    "    \"sat_results.csv\"\n",
    "]\n",
    "# create an empty dictionary\n",
    "data = {}\n",
    "\n",
    "# Read the data_files list into dataframes and add them to the dictionary\n",
    "for f in data_files:\n",
    "    d =  pd.read_csv(\"C:/Users/STELLAS MFB IT/Desktop/p/schools/{0}\".format(f))\n",
    "    key_name = f.replace(\".csv\",\" \")\n",
    "    data[key_name] = d\n"
   ]
  },
  {
   "cell_type": "code",
   "execution_count": null,
   "metadata": {},
   "outputs": [],
   "source": []
  }
 ],
 "metadata": {
  "kernelspec": {
   "display_name": "Python 3",
   "language": "python",
   "name": "python3"
  },
  "language_info": {
   "codemirror_mode": {
    "name": "ipython",
    "version": 3
   },
   "file_extension": ".py",
   "mimetype": "text/x-python",
   "name": "python",
   "nbconvert_exporter": "python",
   "pygments_lexer": "ipython3",
   "version": "3.7.4"
  }
 },
 "nbformat": 4,
 "nbformat_minor": 2
}
